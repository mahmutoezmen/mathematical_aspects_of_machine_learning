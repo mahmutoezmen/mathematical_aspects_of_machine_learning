{
  "cells": [
    {
      "cell_type": "markdown",
      "metadata": {
        "id": "view-in-github",
        "colab_type": "text"
      },
      "source": [
        "<a href=\"https://colab.research.google.com/github/mahoneynomadic/mathematical_aspects_of_machine_learning/blob/main/session1.ipynb\" target=\"_parent\"><img src=\"https://colab.research.google.com/assets/colab-badge.svg\" alt=\"Open In Colab\"/></a>"
      ]
    },
    {
      "cell_type": "markdown",
      "metadata": {
        "id": "Gjmdg6JN5daN"
      },
      "source": [
        "## Mathematical aspects of Machine Learning: exercise sheet 1 \n",
        "\n",
        "Lecturers: Péter Koltai, Mattes Mollenhauer"
      ]
    },
    {
      "cell_type": "code",
      "execution_count": 1,
      "metadata": {
        "id": "_FnKW0kR5dai"
      },
      "outputs": [],
      "source": [
        "import itertools\n",
        "import matplotlib.pyplot as plt\n",
        "%matplotlib inline\n",
        "\n",
        "import numpy as np\n",
        "from numpy.random import multivariate_normal"
      ]
    },
    {
      "cell_type": "code",
      "execution_count": 2,
      "metadata": {
        "id": "zRAk6iYK5dak"
      },
      "outputs": [],
      "source": [
        "def mc_upper_half(n_points, n_trials):\n",
        "    \"\"\"\n",
        "    Samples the probability that for\n",
        "    n_points (int) independent copies of \n",
        "    the twodimensional random varable X ~ N( 0, Id)\n",
        "    we have X[1] >= 0 in every realization.\n",
        "    \n",
        "    The simulation is run n_trials (int) times.\n",
        "    \"\"\"\n",
        "    trial_vec = []\n",
        "    for i in range(n_trials): # monte carlo iteration\n",
        "        x = multivariate_normal([0, 0], np.eye(2), n_points) # sampling\n",
        "        x_pos = (x[:,1] >= 0) # check second coordinate pointwise\n",
        "        trial_vec.append(np.all(x_pos)) \n",
        "    return sum(trial_vec) / n_trials"
      ]
    },
    {
      "cell_type": "code",
      "execution_count": 3,
      "metadata": {
        "colab": {
          "base_uri": "https://localhost:8080/",
          "height": 283
        },
        "id": "j7OWP0mv5dal",
        "outputId": "8d4f8a8f-712f-4fc0-b12a-81ec464a5a6d"
      },
      "outputs": [
        {
          "output_type": "execute_result",
          "data": {
            "text/plain": [
              "[<matplotlib.lines.Line2D at 0x7fbbe1c8e610>]"
            ]
          },
          "metadata": {},
          "execution_count": 3
        },
        {
          "output_type": "display_data",
          "data": {
            "image/png": "[encoded data removed]",
            "text/plain": [
              "<Figure size 432x288 with 1 Axes>"
            ]
          },
          "metadata": {
            "needs_background": "light"
          }
        }
      ],
      "source": [
        "vec = []\n",
        "for n_points in range(2,11):\n",
        "    vec.append(mc_upper_half(n_points, 10000))\n",
        "    \n",
        "plt.plot(range(2,11), vec)"
      ]
    },
    {
      "cell_type": "markdown",
      "metadata": {
        "id": "5TTC4QmE5dan"
      },
      "source": [
        "### Idea of the \"common half plane\" algorithm:\n",
        "\n",
        "Given a set of points $x_1, \\cdots, x_n$, perform the following:\n",
        "\n",
        "For all possible tuples $(x_i,x_j,x_k)$ for\n",
        "$1 \\leq i,j,k \\leq n$: check whether the polar angle of $x_i$ is in\n",
        "between the area enclosed by the \"flipped\" ($+\\pi$) polar angles of $x_j$ and\n",
        "$x_k$.\n",
        "\n",
        "If there is such a tuple where this occurs, the dataset is **not** contained in a common half plane."
      ]
    },
    {
      "cell_type": "code",
      "execution_count": 4,
      "metadata": {
        "id": "2Y-oHz-95dao"
      },
      "outputs": [],
      "source": [
        "def common_halfplane(points):\n",
        "    \"\"\"\n",
        "    Tests whether an array of 2d points is fully contained\n",
        "    in an arbitrary half plane.\n",
        "    \n",
        "    Inputs\n",
        "        points (ndarray): An array of shape [n, 2], where n denotes the\n",
        "        number of points\n",
        "    \"\"\"\n",
        "    angles = np.array([np.arctan2(p[1], p[0]) for p in points]) # angles of all points in [-pi,pi]\n",
        "    \n",
        "    def _is_between(alpha, angles):\n",
        "        \"\"\"\n",
        "        Checks whether an angle alpha with range [0, 2pi]\n",
        "        is in the smaller part\n",
        "        of a circle between two angles = [angle1, angle2] \n",
        "        \"\"\"\n",
        "        lo, hi = min(angles), max(angles)\n",
        "        if hi - lo > np.pi:\n",
        "            return (alpha < lo) or (alpha > hi)\n",
        "        else: \n",
        "            return (alpha < hi) and (alpha > lo)\n",
        "        \n",
        "    vec = []\n",
        "    for alpha, beta1, beta2 in itertools.permutations(angles, 3): # go through all combinations of angles\n",
        "        beta1, beta2 = beta1+ np.pi, beta2 + np.pi # flip two enclosing angles: they are now in [0, 2pi]\n",
        "        alpha = (alpha + 2 * np.pi) % (2 * np.pi) # transform remaining angle to [0, 2pi]\n",
        "        vec.append(_is_between(alpha, [beta1, beta2])) # check whether alpha is between beta1, beta2\n",
        "    return not any(vec)"
      ]
    },
    {
      "cell_type": "code",
      "execution_count": 5,
      "metadata": {
        "id": "XK2OmzUH5daq"
      },
      "outputs": [],
      "source": [
        "def mc_arbitrary_half(n_points, n_trials):\n",
        "    \"\"\"\n",
        "    Samples the probability that\n",
        "    n_points (int) independent copies of \n",
        "    the twodimensional random varable X ~ N( 0, Id)\n",
        "    are contained in an arbitrary half plane.\n",
        "    \n",
        "    The simulation is run n_trials (int) times.\n",
        "    \"\"\"\n",
        "    trial_vec = []\n",
        "    for i in range(n_trials): # monte carlo iteration\n",
        "        points = multivariate_normal([0, 0], np.eye(2), n_points) # sampling\n",
        "        trial_vec.append(common_halfplane(points)) # run our common_plane algorithm\n",
        "    return sum(trial_vec) / n_trials"
      ]
    },
    {
      "cell_type": "code",
      "execution_count": 6,
      "metadata": {
        "colab": {
          "base_uri": "https://localhost:8080/"
        },
        "id": "KePKpA475dar",
        "outputId": "219f9705-83b3-4e91-ab1e-ec92e8f689b3"
      },
      "outputs": [
        {
          "output_type": "execute_result",
          "data": {
            "text/plain": [
              "0.7495"
            ]
          },
          "metadata": {},
          "execution_count": 6
        }
      ],
      "source": [
        "mc_arbitrary_half(3, 10000)"
      ]
    },
    {
      "cell_type": "code",
      "execution_count": 7,
      "metadata": {
        "colab": {
          "base_uri": "https://localhost:8080/",
          "height": 283
        },
        "id": "BrNQrZEU5dar",
        "outputId": "cf44fe3a-7864-4666-de45-ab931a843132"
      },
      "outputs": [
        {
          "output_type": "execute_result",
          "data": {
            "text/plain": [
              "[<matplotlib.lines.Line2D at 0x7fbbe178e350>]"
            ]
          },
          "metadata": {},
          "execution_count": 7
        },
        {
          "output_type": "display_data",
          "data": {
            "image/png": "[encoded data removed]",
            "text/plain": [
              "<Figure size 432x288 with 1 Axes>"
            ]
          },
          "metadata": {
            "needs_background": "light"
          }
        }
      ],
      "source": [
        "vec = []\n",
        "for n_points in range(3,11):\n",
        "    vec.append(mc_arbitrary_half(n_points, 5000))\n",
        "    \n",
        "plt.semilogy(range(3,11), vec)"
      ]
    }
  ],
  "metadata": {
    "kernelspec": {
      "display_name": "Python 3",
      "language": "python",
      "name": "python3"
    },
    "language_info": {
      "codemirror_mode": {
        "name": "ipython",
        "version": 3
      },
      "file_extension": ".py",
      "mimetype": "text/x-python",
      "name": "python",
      "nbconvert_exporter": "python",
      "pygments_lexer": "ipython3",
      "version": "3.7.3"
    },
    "colab": {
      "name": "session2.ipynb",
      "provenance": [],
      "include_colab_link": true
    }
  },
  "nbformat": 4,
  "nbformat_minor": 0
}